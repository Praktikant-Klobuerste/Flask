{
 "cells": [
  {
   "cell_type": "code",
   "execution_count": 2,
   "metadata": {},
   "outputs": [],
   "source": [
    "from flask import Flask\n",
    "from flask_sqlalchemy import SQLAlchemy\n",
    "\n",
    "\n",
    "app = Flask(__name__)\n",
    "app.config['SECRET_KEY'] = '8BYkEfBA6O6donzWlSihBXox7C0sKR6b'\n",
    "app.app_context().push()\n",
    "# configure the SQLite database, relative to the app instance folder\n",
    "app.config[\"SQLALCHEMY_DATABASE_URI\"] = \"sqlite:///top10-movie-collection.db\"\n",
    "app.config['SQLALCHEMY_TRACK_MODIFICATIONS'] = False\n",
    "db = SQLAlchemy(app)\n",
    "\n",
    "class Movie(db.Model):\n",
    "    id = db.Column(db.Integer, primary_key=True)\n",
    "    title = db.Column(db.String(250), unique=True, nullable=False)\n",
    "    year = db.Column(db.Integer, nullable=False)\n",
    "    description = db.Column(db.String(250), unique=False)\n",
    "    rating = db.Column(db.Float, nullable=True)\n",
    "    ranking = db.Column(db.Integer, nullable=True)\n",
    "    review = db.Column(db.String(250), nullable = True)\n",
    "    img_url = db.Column(db.String(250))\n",
    "\n",
    "\n",
    "db.create_all()\n",
    "\n",
    "\n",
    "# new_movie = Movie(\n",
    "#     title=\"Test3\",\n",
    "#     year=2002,\n",
    "#     description=\"3Publicist Stuart Shepard finds himself trapped in a phone booth, pinned down by an extortionist's sniper rifle. Unable to leave or receive outside help, Stuart's negotiation with the caller leads to a jaw-dropping climax.\",\n",
    "#     # rating=7.3,\n",
    "#     # ranking=10,\n",
    "#     # review=\"My favourite character was the caller.\",\n",
    "#     img_url=\"https://image.tmdb.org/t/p/w500/tjrX2oWRCM3Tvarz38zlZM7Uc10.jpg\")\n",
    "\n",
    "# db.session.add(new_movie)\n",
    "# db.session.commit()"
   ]
  },
  {
   "cell_type": "code",
   "execution_count": 3,
   "metadata": {},
   "outputs": [],
   "source": [
    "Movie.query.all().reverse()"
   ]
  },
  {
   "cell_type": "code",
   "execution_count": 9,
   "metadata": {},
   "outputs": [
    {
     "data": {
      "text/plain": [
       "{'adult': False,\n",
       " 'backdrop_path': None,\n",
       " 'genre_ids': [99, 16],\n",
       " 'id': 698296,\n",
       " 'original_language': 'en',\n",
       " 'original_title': \"The Art of 'Spirited Away'\",\n",
       " 'overview': 'The people that brought the film Sen to Chihiro no kamikakushi (2001) (a.k.a. \"Spirited Away\") to the US explain how it was converted into English, with some minor confusion between languages, and how well it did in both Japan and America.',\n",
       " 'popularity': 1.206,\n",
       " 'poster_path': '/x1iaVnI4mTaETwAKTLyIAKFwQSJ.jpg',\n",
       " 'release_date': '2003-04-15',\n",
       " 'title': \"The Art of 'Spirited Away'\",\n",
       " 'video': False,\n",
       " 'vote_average': 8,\n",
       " 'vote_count': 2}"
      ]
     },
     "execution_count": 9,
     "metadata": {},
     "output_type": "execute_result"
    }
   ],
   "source": [
    "import requests\n",
    "\n",
    "URL = \"https://api.themoviedb.org/3/search/movie\"\n",
    "API_KEY = \"fab68cdc1c880cf7f3ed4792a5e4b7df\"\n",
    "\n",
    "params = {\n",
    "    \"api_key\" : API_KEY,\n",
    "    \"query\" : \"Spirited Away\"\n",
    "}\n",
    "data = requests.get(url=URL, params=params)\n",
    "\n",
    "# for movie in data.json()[\"results\"]:\n",
    "#     print(movie[\"title\"], movie[\"release_date\"])\n",
    "data.json()[\"results\"][0]\n"
   ]
  },
  {
   "cell_type": "code",
   "execution_count": 19,
   "metadata": {},
   "outputs": [
    {
     "name": "stdout",
     "output_type": "stream",
     "text": [
      "{   'adult': False,\n",
      "    'backdrop_path': None,\n",
      "    'belongs_to_collection': None,\n",
      "    'budget': 0,\n",
      "    'genres': [   {'id': 99, 'name': 'Documentary'},\n",
      "                  {'id': 16, 'name': 'Animation'}],\n",
      "    'homepage': '',\n",
      "    'id': 698296,\n",
      "    'imdb_id': 'tt0371545',\n",
      "    'original_language': 'en',\n",
      "    'original_title': \"The Art of 'Spirited Away'\",\n",
      "    'overview': 'The people that brought the film Sen to Chihiro no '\n",
      "                'kamikakushi (2001) (a.k.a. \"Spirited Away\") to the US explain '\n",
      "                'how it was converted into English, with some minor confusion '\n",
      "                'between languages, and how well it did in both Japan and '\n",
      "                'America.',\n",
      "    'popularity': 0.742,\n",
      "    'poster_path': '/x1iaVnI4mTaETwAKTLyIAKFwQSJ.jpg',\n",
      "    'production_companies': [],\n",
      "    'production_countries': [],\n",
      "    'release_date': '2003-04-15',\n",
      "    'revenue': 0,\n",
      "    'runtime': 15,\n",
      "    'spoken_languages': [],\n",
      "    'status': 'Released',\n",
      "    'tagline': '',\n",
      "    'title': \"The Art of 'Spirited Away'\",\n",
      "    'video': False,\n",
      "    'vote_average': 8.0,\n",
      "    'vote_count': 2}\n"
     ]
    }
   ],
   "source": [
    "import requests\n",
    "import pprint\n",
    "pp = pprint.PrettyPrinter(indent=4)\n",
    "\n",
    "URL = \"https://api.themoviedb.org/3\"\n",
    "API_KEY = \"fab68cdc1c880cf7f3ed4792a5e4b7df\"\n",
    "\n",
    "movie_id = 698296\n",
    "params = {\n",
    "\"api_key\" : API_KEY,\n",
    "}\n",
    "data = requests.get(url=f\"{URL}/movie/{movie_id}\", params = params)\n",
    "pp.pprint(data.json())\n"
   ]
  },
  {
   "cell_type": "code",
   "execution_count": 26,
   "metadata": {},
   "outputs": [
    {
     "name": "stdout",
     "output_type": "stream",
     "text": [
      "The Art of 'Spirited Away'\n",
      "https://image.tmdb.org/t/p/w500/x1iaVnI4mTaETwAKTLyIAKFwQSJ.jpg\n",
      "https://image.tmdb.org/t/p/w500/x1iaVnI4mTaETwAKTLyIAKFwQSJ.jpg\n",
      "2003\n",
      "The people that brought the film Sen to Chihiro no kamikakushi (2001) (a.k.a. \"Spirited Away\") to the US explain how it was converted into English, with some minor confusion between languages, and how well it did in both Japan and America.\n"
     ]
    }
   ],
   "source": [
    "movie = data.json()\n",
    "print(movie[\"title\"])\n",
    "print(f'https://image.tmdb.org/t/p/w500{movie[\"poster_path\"]}')\n",
    "print(movie[\"release_date\"][:4])\n",
    "print(movie[\"overview\"])"
   ]
  },
  {
   "cell_type": "code",
   "execution_count": 2,
   "metadata": {},
   "outputs": [
    {
     "data": {
      "text/plain": [
       "[5, 4, 3, 2, 1]"
      ]
     },
     "execution_count": 2,
     "metadata": {},
     "output_type": "execute_result"
    }
   ],
   "source": [
    "list(range(5, 0, -1))"
   ]
  }
 ],
 "metadata": {
  "kernelspec": {
   "display_name": "Python 3",
   "language": "python",
   "name": "python3"
  },
  "language_info": {
   "codemirror_mode": {
    "name": "ipython",
    "version": 3
   },
   "file_extension": ".py",
   "mimetype": "text/x-python",
   "name": "python",
   "nbconvert_exporter": "python",
   "pygments_lexer": "ipython3",
   "version": "3.10.9 (tags/v3.10.9:1dd9be6, Dec  6 2022, 20:01:21) [MSC v.1934 64 bit (AMD64)]"
  },
  "orig_nbformat": 4,
  "vscode": {
   "interpreter": {
    "hash": "726755f34c6edf64003441747d6695f19656b451b09fa988e928e52cb9add3a9"
   }
  }
 },
 "nbformat": 4,
 "nbformat_minor": 2
}
